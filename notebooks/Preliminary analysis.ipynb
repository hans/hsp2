{
 "cells": [
  {
   "cell_type": "code",
   "execution_count": 52,
   "metadata": {},
   "outputs": [],
   "source": [
    "import numpy as np\n",
    "import pandas as pd\n",
    "import seaborn as sns\n",
    "from tqdm.notebook import tqdm\n",
    "from matplotlib import pyplot as plt\n",
    "%matplotlib inline"
   ]
  },
  {
   "cell_type": "code",
   "execution_count": 53,
   "metadata": {},
   "outputs": [],
   "source": [
    "import os\n",
    "os.chdir(\"..\")"
   ]
  },
  {
   "cell_type": "code",
   "execution_count": 54,
   "metadata": {},
   "outputs": [
    {
     "name": "stdout",
     "output_type": "stream",
     "text": [
      "The autoreload extension is already loaded. To reload it, use:\n",
      "  %reload_ext autoreload\n"
     ]
    }
   ],
   "source": [
    "%load_ext autoreload\n",
    "%autoreload 2\n",
    "import sys\n",
    "sys.path.append(\"./src\")\n",
    "import data"
   ]
  },
  {
   "cell_type": "markdown",
   "metadata": {},
   "source": [
    "----"
   ]
  },
  {
   "cell_type": "code",
   "execution_count": 55,
   "metadata": {},
   "outputs": [],
   "source": [
    "EXP_CONDITIONS = [\"verb\", \"syntax\"]"
   ]
  },
  {
   "cell_type": "code",
   "execution_count": 56,
   "metadata": {},
   "outputs": [
    {
     "name": "stderr",
     "output_type": "stream",
     "text": [
      "Missing datastring for uid AW2TBYJM32KBE:32SVAV9L3GXSRJNSO7SLX51E5SCA35. Status was 1.\n",
      "Missing datastring for uid A1FNNL4YJGBU8U:3JC6VJ2SAC7V5YAW2QGEC2ZYJO3A5V. Status was 1.\n",
      "Missing datastring for uid A2VNSNAN1LZBAM:3M81GAB8A17PHUYMSW4D5OEVX83BQ8. Status was 1.\n",
      "Missing datastring for uid A2SM1GBN4ARGM4:3X1FV8S5JYFDDJ2EUHQ1CM40UDAGVO. Status was 1.\n",
      "Missing datastring for uid AOS2PVHT2HYTL:3R6BYFZZP80Z38BEJCL1IM1999JFXS. Status was 1.\n",
      "Missing datastring for uid A3EYLQU2ORNJ7K:3R6BYFZZP80Z38BEJCL1IM1999JFXS. Status was 1.\n",
      "Missing datastring for uid ACTBJYB46CJO3:3R6BYFZZP80Z38BEJCL1IM1999JFXS. Status was 1.\n",
      "Missing datastring for uid debugJE81TE:debugICM3V5. Status was 1.\n",
      "Missing datastring for uid AY832D29HUURG:3EJJQNKU9STZK8G85339WPRYON8RHZ. Status was 1.\n",
      "Missing datastring for uid A36DK84J5YJ942:3M81GAB8A17PHUYMSW4D5OEVXO1BQ2. Status was 1.\n",
      "Missing datastring for uid A1SIUJEL2LS8UO:3ZAK8W07I52GP02TBPRTV8F195AU04. Status was 1.\n",
      "Missing datastring for uid ABOEYY9Y0PFRI:3ERMJ6L4DZGBU3X4NMLGJD8U4XHM78. Status was 1.\n",
      "Missing datastring for uid A1A3DO2GPR2SVK:3ZAK8W07I52GP02TBPRTV8F195AU04. Status was 1.\n",
      "Missing datastring for uid A8D8BPNBHWZ6N:3ZY8KE4ISKR4Q8WSXDVD60820GMQVS. Status was 1.\n",
      "Missing datastring for uid A3I4F2EN03WNQQ:3O7L7BFSHFDA7ZMNPF1UXUTU9B2EI7. Status was 1.\n",
      "Missing datastring for uid A1FLLV4JX5FOAY:3N8OEVH1FSE6FCAFHOHVM3JUPMAOOJ. Status was 1.\n",
      "Missing datastring for uid A3AGQ2G8QI59EG:3TVSS0C0E2OUXDOP4RU4X723S7BWTX. Status was 1.\n",
      "Missing datastring for uid AQ5KOKZQSZU0B:35USIKEBNS4Y8L4ZGDVOQEXYFNX6N6. Status was 1.\n",
      "Missing datastring for uid A1AT2YBJAPEUMT:3PDJHANYK646YPIODF0BLU02TBO6HX. Status was 1.\n",
      "Missing datastring for uid A3FJCLBK3HF4PD:3TDXMTX3CCI6UKT8JXIWL61HTO36IQ. Status was 1.\n",
      "Missing datastring for uid A3HHDPKL3O3O7Y:3X0H8UUIT2CTIDBAFRPEN26HQOXWS8. Status was 1.\n",
      "Missing datastring for uid A3EDQ6S24E26Y2:3X66WABAJX6T1A0VA7KVTRCH4KB3GR. Status was 1.\n",
      "Missing datastring for uid A9H3NE6ZJODLL:3B837J3LDPKOAHUOGXF803Y0Y9LSR4. Status was 1.\n",
      "Missing datastring for uid A2NKW6JBEM4LL4:3LO69W1SU41AHEQKGDOVPD6Y477LGU. Status was 1.\n",
      "Missing datastring for uid A1YX741QQSMKPS:35USIKEBNS4Y8L4ZGDVOQEXYFO56NG. Status was 1.\n",
      "Missing datastring for uid A340UNNVUZMEZF:3LO69W1SU41AHEQKGDOVPD6Y477LGU. Status was 1.\n",
      "Missing datastring for uid A1FYWSPNO7KN1O:3A7Y0R2P2PCF8AXA22CMXKT1383JXN. Status was 1.\n",
      "Missing datastring for uid A3GEHH49HNJM57:308Q0PEVB91TC3V6H4L85GSJJQZI93. Status was 1.\n"
     ]
    },
    {
     "data": {
      "text/plain": [
       "(690, 690)"
      ]
     },
     "execution_count": 56,
     "metadata": {},
     "output_type": "execute_result"
    }
   ],
   "source": [
    "trials_df = data.get_trials_df(data.load_raw_results(),\n",
    "                               extract_data_fields=(\"condition\", \"item_idx\", \n",
    "                                                    \"verbs\", \"nonce_verbs\",\n",
    "                                                    \"verb_sequence\", \"nonce_verb_sequence\"))\n",
    "\n",
    "# Extract train--test sequences\n",
    "trials_df[\"is_train_trial\"] = False\n",
    "trials_df[\"is_test_trial\"] = False\n",
    "trials_df[\"chunk\"] = None\n",
    "# TODO mark training and test trials more explicitly next time ..\n",
    "train_trial_idxs, test_trial_idxs = [], []\n",
    "train_chunks, test_chunks = [], []\n",
    "for uid, subj_trials in trials_df.groupby(\"uniqueid\"):\n",
    "    chunk = -1\n",
    "    for trial_index, trial in subj_trials.sort_index().iterrows():\n",
    "        if trial.trial_type == \"instructions\" and trial.condition in EXP_CONDITIONS:\n",
    "            # New chunk.\n",
    "            chunk += 1\n",
    "        elif trial.trial_type == \"html-keyboard-response\" or trial.trial_type == \"delayed-html-keyboard-response\":\n",
    "            # Training trial.\n",
    "            trials_df.loc[trial_index, [\"is_train_trial\", \"chunk\"]] = True, chunk\n",
    "        elif trial.trial_type == \"survey-multi-choice\" and chunk >= 0:\n",
    "            trials_df.loc[trial_index, [\"is_test_trial\", \"chunk\"]] = True, chunk\n",
    "            \n",
    "# TODO don't know what's happening here\n",
    "trials_df = trials_df.drop([\"A35UT5CBNL7FTD:3ZV9H2YQQEVPYWQVPCODFUY5Y8Z3WO\"], level=\"uniqueid\")\n",
    "\n",
    "train_trials_df = trials_df[trials_df.is_train_trial]\n",
    "test_trials_df = trials_df[trials_df.is_test_trial]\n",
    "len(train_trials_df), len(test_trials_df)"
   ]
  },
  {
   "cell_type": "code",
   "execution_count": 57,
   "metadata": {},
   "outputs": [
    {
     "data": {
      "text/html": [
       "<div>\n",
       "<style scoped>\n",
       "    .dataframe tbody tr th:only-of-type {\n",
       "        vertical-align: middle;\n",
       "    }\n",
       "\n",
       "    .dataframe tbody tr th {\n",
       "        vertical-align: top;\n",
       "    }\n",
       "\n",
       "    .dataframe thead th {\n",
       "        text-align: right;\n",
       "    }\n",
       "</style>\n",
       "<table border=\"1\" class=\"dataframe\">\n",
       "  <thead>\n",
       "    <tr style=\"text-align: right;\">\n",
       "      <th></th>\n",
       "      <th></th>\n",
       "      <th>condition</th>\n",
       "      <th>counterbalance</th>\n",
       "      <th>assignmentId</th>\n",
       "      <th>workerId</th>\n",
       "      <th>hitId</th>\n",
       "      <th>trial_type</th>\n",
       "      <th>rt</th>\n",
       "      <th>internal_node_id</th>\n",
       "      <th>item_idx</th>\n",
       "      <th>verbs</th>\n",
       "      <th>nonce_verbs</th>\n",
       "      <th>verb_sequence</th>\n",
       "      <th>nonce_verb_sequence</th>\n",
       "      <th>survey_question_idx</th>\n",
       "      <th>survey_answer</th>\n",
       "      <th>is_train_trial</th>\n",
       "      <th>is_test_trial</th>\n",
       "      <th>chunk</th>\n",
       "    </tr>\n",
       "    <tr>\n",
       "      <th>trial_index</th>\n",
       "      <th>uniqueid</th>\n",
       "      <th></th>\n",
       "      <th></th>\n",
       "      <th></th>\n",
       "      <th></th>\n",
       "      <th></th>\n",
       "      <th></th>\n",
       "      <th></th>\n",
       "      <th></th>\n",
       "      <th></th>\n",
       "      <th></th>\n",
       "      <th></th>\n",
       "      <th></th>\n",
       "      <th></th>\n",
       "      <th></th>\n",
       "      <th></th>\n",
       "      <th></th>\n",
       "      <th></th>\n",
       "      <th></th>\n",
       "    </tr>\n",
       "  </thead>\n",
       "  <tbody>\n",
       "    <tr>\n",
       "      <th>4</th>\n",
       "      <th>A1YFVXP4A1CXSF:3OJSZ2ATDTKDMWCYVN4U2BX8IGX57Z</th>\n",
       "      <td>verb</td>\n",
       "      <td>0</td>\n",
       "      <td>3OJSZ2ATDTKDMWCYVN4U2BX8IGX57Z</td>\n",
       "      <td>A1YFVXP4A1CXSF</td>\n",
       "      <td>3VJ4PFXFJ3V93T2IDPJKWUVQ3Y8UAY</td>\n",
       "      <td>html-keyboard-response</td>\n",
       "      <td>13184</td>\n",
       "      <td>0.0-3.0-1.0</td>\n",
       "      <td>3.0</td>\n",
       "      <td>[clean, wear]</td>\n",
       "      <td>[dax, blick]</td>\n",
       "      <td>None</td>\n",
       "      <td>None</td>\n",
       "      <td>NaN</td>\n",
       "      <td>NaN</td>\n",
       "      <td>True</td>\n",
       "      <td>False</td>\n",
       "      <td>0</td>\n",
       "    </tr>\n",
       "    <tr>\n",
       "      <th>5</th>\n",
       "      <th>A1YFVXP4A1CXSF:3OJSZ2ATDTKDMWCYVN4U2BX8IGX57Z</th>\n",
       "      <td>verb</td>\n",
       "      <td>0</td>\n",
       "      <td>3OJSZ2ATDTKDMWCYVN4U2BX8IGX57Z</td>\n",
       "      <td>A1YFVXP4A1CXSF</td>\n",
       "      <td>3VJ4PFXFJ3V93T2IDPJKWUVQ3Y8UAY</td>\n",
       "      <td>html-keyboard-response</td>\n",
       "      <td>6731</td>\n",
       "      <td>0.0-3.0-2.0</td>\n",
       "      <td>3.0</td>\n",
       "      <td>[clean, wear]</td>\n",
       "      <td>[dax, blick]</td>\n",
       "      <td>None</td>\n",
       "      <td>None</td>\n",
       "      <td>NaN</td>\n",
       "      <td>NaN</td>\n",
       "      <td>True</td>\n",
       "      <td>False</td>\n",
       "      <td>0</td>\n",
       "    </tr>\n",
       "    <tr>\n",
       "      <th>8</th>\n",
       "      <th>A1YFVXP4A1CXSF:3OJSZ2ATDTKDMWCYVN4U2BX8IGX57Z</th>\n",
       "      <td>verb</td>\n",
       "      <td>0</td>\n",
       "      <td>3OJSZ2ATDTKDMWCYVN4U2BX8IGX57Z</td>\n",
       "      <td>A1YFVXP4A1CXSF</td>\n",
       "      <td>3VJ4PFXFJ3V93T2IDPJKWUVQ3Y8UAY</td>\n",
       "      <td>html-keyboard-response</td>\n",
       "      <td>2529</td>\n",
       "      <td>0.0-4.0-1.0</td>\n",
       "      <td>14.0</td>\n",
       "      <td>[fly, float]</td>\n",
       "      <td>[cluss, cluft]</td>\n",
       "      <td>None</td>\n",
       "      <td>None</td>\n",
       "      <td>NaN</td>\n",
       "      <td>NaN</td>\n",
       "      <td>True</td>\n",
       "      <td>False</td>\n",
       "      <td>1</td>\n",
       "    </tr>\n",
       "    <tr>\n",
       "      <th>9</th>\n",
       "      <th>A1YFVXP4A1CXSF:3OJSZ2ATDTKDMWCYVN4U2BX8IGX57Z</th>\n",
       "      <td>verb</td>\n",
       "      <td>0</td>\n",
       "      <td>3OJSZ2ATDTKDMWCYVN4U2BX8IGX57Z</td>\n",
       "      <td>A1YFVXP4A1CXSF</td>\n",
       "      <td>3VJ4PFXFJ3V93T2IDPJKWUVQ3Y8UAY</td>\n",
       "      <td>html-keyboard-response</td>\n",
       "      <td>3373</td>\n",
       "      <td>0.0-4.0-2.0</td>\n",
       "      <td>14.0</td>\n",
       "      <td>[fly, float]</td>\n",
       "      <td>[cluss, cluft]</td>\n",
       "      <td>None</td>\n",
       "      <td>None</td>\n",
       "      <td>NaN</td>\n",
       "      <td>NaN</td>\n",
       "      <td>True</td>\n",
       "      <td>False</td>\n",
       "      <td>1</td>\n",
       "    </tr>\n",
       "    <tr>\n",
       "      <th>12</th>\n",
       "      <th>A1YFVXP4A1CXSF:3OJSZ2ATDTKDMWCYVN4U2BX8IGX57Z</th>\n",
       "      <td>verb</td>\n",
       "      <td>0</td>\n",
       "      <td>3OJSZ2ATDTKDMWCYVN4U2BX8IGX57Z</td>\n",
       "      <td>A1YFVXP4A1CXSF</td>\n",
       "      <td>3VJ4PFXFJ3V93T2IDPJKWUVQ3Y8UAY</td>\n",
       "      <td>html-keyboard-response</td>\n",
       "      <td>2169</td>\n",
       "      <td>0.0-5.0-1.0</td>\n",
       "      <td>15.0</td>\n",
       "      <td>[jump, play]</td>\n",
       "      <td>[shramp, snoss]</td>\n",
       "      <td>None</td>\n",
       "      <td>None</td>\n",
       "      <td>NaN</td>\n",
       "      <td>NaN</td>\n",
       "      <td>True</td>\n",
       "      <td>False</td>\n",
       "      <td>2</td>\n",
       "    </tr>\n",
       "    <tr>\n",
       "      <th>13</th>\n",
       "      <th>A1YFVXP4A1CXSF:3OJSZ2ATDTKDMWCYVN4U2BX8IGX57Z</th>\n",
       "      <td>verb</td>\n",
       "      <td>0</td>\n",
       "      <td>3OJSZ2ATDTKDMWCYVN4U2BX8IGX57Z</td>\n",
       "      <td>A1YFVXP4A1CXSF</td>\n",
       "      <td>3VJ4PFXFJ3V93T2IDPJKWUVQ3Y8UAY</td>\n",
       "      <td>html-keyboard-response</td>\n",
       "      <td>1124</td>\n",
       "      <td>0.0-5.0-2.0</td>\n",
       "      <td>15.0</td>\n",
       "      <td>[jump, play]</td>\n",
       "      <td>[shramp, snoss]</td>\n",
       "      <td>None</td>\n",
       "      <td>None</td>\n",
       "      <td>NaN</td>\n",
       "      <td>NaN</td>\n",
       "      <td>True</td>\n",
       "      <td>False</td>\n",
       "      <td>2</td>\n",
       "    </tr>\n",
       "    <tr>\n",
       "      <th>4</th>\n",
       "      <th>A2SYTRKH1JWJO5:35K3O9HUAC1QX8KXO7V9UXG2TXFEFD</th>\n",
       "      <td>verb</td>\n",
       "      <td>0</td>\n",
       "      <td>35K3O9HUAC1QX8KXO7V9UXG2TXFEFD</td>\n",
       "      <td>A2SYTRKH1JWJO5</td>\n",
       "      <td>3VJ4PFXFJ3V93T2IDPJKWUVQ3Y8UAY</td>\n",
       "      <td>html-keyboard-response</td>\n",
       "      <td>17567</td>\n",
       "      <td>0.0-3.0-1.0</td>\n",
       "      <td>1.0</td>\n",
       "      <td>[pull, arrive]</td>\n",
       "      <td>[spen, mund]</td>\n",
       "      <td>None</td>\n",
       "      <td>None</td>\n",
       "      <td>NaN</td>\n",
       "      <td>NaN</td>\n",
       "      <td>True</td>\n",
       "      <td>False</td>\n",
       "      <td>0</td>\n",
       "    </tr>\n",
       "    <tr>\n",
       "      <th>5</th>\n",
       "      <th>A2SYTRKH1JWJO5:35K3O9HUAC1QX8KXO7V9UXG2TXFEFD</th>\n",
       "      <td>verb</td>\n",
       "      <td>0</td>\n",
       "      <td>35K3O9HUAC1QX8KXO7V9UXG2TXFEFD</td>\n",
       "      <td>A2SYTRKH1JWJO5</td>\n",
       "      <td>3VJ4PFXFJ3V93T2IDPJKWUVQ3Y8UAY</td>\n",
       "      <td>html-keyboard-response</td>\n",
       "      <td>2408</td>\n",
       "      <td>0.0-3.0-2.0</td>\n",
       "      <td>1.0</td>\n",
       "      <td>[arrive, pull]</td>\n",
       "      <td>[mund, spen]</td>\n",
       "      <td>None</td>\n",
       "      <td>None</td>\n",
       "      <td>NaN</td>\n",
       "      <td>NaN</td>\n",
       "      <td>True</td>\n",
       "      <td>False</td>\n",
       "      <td>0</td>\n",
       "    </tr>\n",
       "    <tr>\n",
       "      <th>8</th>\n",
       "      <th>A2SYTRKH1JWJO5:35K3O9HUAC1QX8KXO7V9UXG2TXFEFD</th>\n",
       "      <td>syntax</td>\n",
       "      <td>0</td>\n",
       "      <td>35K3O9HUAC1QX8KXO7V9UXG2TXFEFD</td>\n",
       "      <td>A2SYTRKH1JWJO5</td>\n",
       "      <td>3VJ4PFXFJ3V93T2IDPJKWUVQ3Y8UAY</td>\n",
       "      <td>html-keyboard-response</td>\n",
       "      <td>5262</td>\n",
       "      <td>0.0-4.0-1.0</td>\n",
       "      <td>15.0</td>\n",
       "      <td>[jump, play]</td>\n",
       "      <td>[clouse, twan]</td>\n",
       "      <td>None</td>\n",
       "      <td>None</td>\n",
       "      <td>NaN</td>\n",
       "      <td>NaN</td>\n",
       "      <td>True</td>\n",
       "      <td>False</td>\n",
       "      <td>1</td>\n",
       "    </tr>\n",
       "    <tr>\n",
       "      <th>9</th>\n",
       "      <th>A2SYTRKH1JWJO5:35K3O9HUAC1QX8KXO7V9UXG2TXFEFD</th>\n",
       "      <td>syntax</td>\n",
       "      <td>0</td>\n",
       "      <td>35K3O9HUAC1QX8KXO7V9UXG2TXFEFD</td>\n",
       "      <td>A2SYTRKH1JWJO5</td>\n",
       "      <td>3VJ4PFXFJ3V93T2IDPJKWUVQ3Y8UAY</td>\n",
       "      <td>html-keyboard-response</td>\n",
       "      <td>1682</td>\n",
       "      <td>0.0-4.0-2.0</td>\n",
       "      <td>15.0</td>\n",
       "      <td>[jump, play]</td>\n",
       "      <td>[clouse, twan]</td>\n",
       "      <td>None</td>\n",
       "      <td>None</td>\n",
       "      <td>NaN</td>\n",
       "      <td>NaN</td>\n",
       "      <td>True</td>\n",
       "      <td>False</td>\n",
       "      <td>1</td>\n",
       "    </tr>\n",
       "  </tbody>\n",
       "</table>\n",
       "</div>"
      ],
      "text/plain": [
       "                                                          condition  \\\n",
       "trial_index uniqueid                                                  \n",
       "4           A1YFVXP4A1CXSF:3OJSZ2ATDTKDMWCYVN4U2BX8IGX57Z      verb   \n",
       "5           A1YFVXP4A1CXSF:3OJSZ2ATDTKDMWCYVN4U2BX8IGX57Z      verb   \n",
       "8           A1YFVXP4A1CXSF:3OJSZ2ATDTKDMWCYVN4U2BX8IGX57Z      verb   \n",
       "9           A1YFVXP4A1CXSF:3OJSZ2ATDTKDMWCYVN4U2BX8IGX57Z      verb   \n",
       "12          A1YFVXP4A1CXSF:3OJSZ2ATDTKDMWCYVN4U2BX8IGX57Z      verb   \n",
       "13          A1YFVXP4A1CXSF:3OJSZ2ATDTKDMWCYVN4U2BX8IGX57Z      verb   \n",
       "4           A2SYTRKH1JWJO5:35K3O9HUAC1QX8KXO7V9UXG2TXFEFD      verb   \n",
       "5           A2SYTRKH1JWJO5:35K3O9HUAC1QX8KXO7V9UXG2TXFEFD      verb   \n",
       "8           A2SYTRKH1JWJO5:35K3O9HUAC1QX8KXO7V9UXG2TXFEFD    syntax   \n",
       "9           A2SYTRKH1JWJO5:35K3O9HUAC1QX8KXO7V9UXG2TXFEFD    syntax   \n",
       "\n",
       "                                                           counterbalance  \\\n",
       "trial_index uniqueid                                                        \n",
       "4           A1YFVXP4A1CXSF:3OJSZ2ATDTKDMWCYVN4U2BX8IGX57Z               0   \n",
       "5           A1YFVXP4A1CXSF:3OJSZ2ATDTKDMWCYVN4U2BX8IGX57Z               0   \n",
       "8           A1YFVXP4A1CXSF:3OJSZ2ATDTKDMWCYVN4U2BX8IGX57Z               0   \n",
       "9           A1YFVXP4A1CXSF:3OJSZ2ATDTKDMWCYVN4U2BX8IGX57Z               0   \n",
       "12          A1YFVXP4A1CXSF:3OJSZ2ATDTKDMWCYVN4U2BX8IGX57Z               0   \n",
       "13          A1YFVXP4A1CXSF:3OJSZ2ATDTKDMWCYVN4U2BX8IGX57Z               0   \n",
       "4           A2SYTRKH1JWJO5:35K3O9HUAC1QX8KXO7V9UXG2TXFEFD               0   \n",
       "5           A2SYTRKH1JWJO5:35K3O9HUAC1QX8KXO7V9UXG2TXFEFD               0   \n",
       "8           A2SYTRKH1JWJO5:35K3O9HUAC1QX8KXO7V9UXG2TXFEFD               0   \n",
       "9           A2SYTRKH1JWJO5:35K3O9HUAC1QX8KXO7V9UXG2TXFEFD               0   \n",
       "\n",
       "                                                                             assignmentId  \\\n",
       "trial_index uniqueid                                                                        \n",
       "4           A1YFVXP4A1CXSF:3OJSZ2ATDTKDMWCYVN4U2BX8IGX57Z  3OJSZ2ATDTKDMWCYVN4U2BX8IGX57Z   \n",
       "5           A1YFVXP4A1CXSF:3OJSZ2ATDTKDMWCYVN4U2BX8IGX57Z  3OJSZ2ATDTKDMWCYVN4U2BX8IGX57Z   \n",
       "8           A1YFVXP4A1CXSF:3OJSZ2ATDTKDMWCYVN4U2BX8IGX57Z  3OJSZ2ATDTKDMWCYVN4U2BX8IGX57Z   \n",
       "9           A1YFVXP4A1CXSF:3OJSZ2ATDTKDMWCYVN4U2BX8IGX57Z  3OJSZ2ATDTKDMWCYVN4U2BX8IGX57Z   \n",
       "12          A1YFVXP4A1CXSF:3OJSZ2ATDTKDMWCYVN4U2BX8IGX57Z  3OJSZ2ATDTKDMWCYVN4U2BX8IGX57Z   \n",
       "13          A1YFVXP4A1CXSF:3OJSZ2ATDTKDMWCYVN4U2BX8IGX57Z  3OJSZ2ATDTKDMWCYVN4U2BX8IGX57Z   \n",
       "4           A2SYTRKH1JWJO5:35K3O9HUAC1QX8KXO7V9UXG2TXFEFD  35K3O9HUAC1QX8KXO7V9UXG2TXFEFD   \n",
       "5           A2SYTRKH1JWJO5:35K3O9HUAC1QX8KXO7V9UXG2TXFEFD  35K3O9HUAC1QX8KXO7V9UXG2TXFEFD   \n",
       "8           A2SYTRKH1JWJO5:35K3O9HUAC1QX8KXO7V9UXG2TXFEFD  35K3O9HUAC1QX8KXO7V9UXG2TXFEFD   \n",
       "9           A2SYTRKH1JWJO5:35K3O9HUAC1QX8KXO7V9UXG2TXFEFD  35K3O9HUAC1QX8KXO7V9UXG2TXFEFD   \n",
       "\n",
       "                                                                 workerId  \\\n",
       "trial_index uniqueid                                                        \n",
       "4           A1YFVXP4A1CXSF:3OJSZ2ATDTKDMWCYVN4U2BX8IGX57Z  A1YFVXP4A1CXSF   \n",
       "5           A1YFVXP4A1CXSF:3OJSZ2ATDTKDMWCYVN4U2BX8IGX57Z  A1YFVXP4A1CXSF   \n",
       "8           A1YFVXP4A1CXSF:3OJSZ2ATDTKDMWCYVN4U2BX8IGX57Z  A1YFVXP4A1CXSF   \n",
       "9           A1YFVXP4A1CXSF:3OJSZ2ATDTKDMWCYVN4U2BX8IGX57Z  A1YFVXP4A1CXSF   \n",
       "12          A1YFVXP4A1CXSF:3OJSZ2ATDTKDMWCYVN4U2BX8IGX57Z  A1YFVXP4A1CXSF   \n",
       "13          A1YFVXP4A1CXSF:3OJSZ2ATDTKDMWCYVN4U2BX8IGX57Z  A1YFVXP4A1CXSF   \n",
       "4           A2SYTRKH1JWJO5:35K3O9HUAC1QX8KXO7V9UXG2TXFEFD  A2SYTRKH1JWJO5   \n",
       "5           A2SYTRKH1JWJO5:35K3O9HUAC1QX8KXO7V9UXG2TXFEFD  A2SYTRKH1JWJO5   \n",
       "8           A2SYTRKH1JWJO5:35K3O9HUAC1QX8KXO7V9UXG2TXFEFD  A2SYTRKH1JWJO5   \n",
       "9           A2SYTRKH1JWJO5:35K3O9HUAC1QX8KXO7V9UXG2TXFEFD  A2SYTRKH1JWJO5   \n",
       "\n",
       "                                                                                    hitId  \\\n",
       "trial_index uniqueid                                                                        \n",
       "4           A1YFVXP4A1CXSF:3OJSZ2ATDTKDMWCYVN4U2BX8IGX57Z  3VJ4PFXFJ3V93T2IDPJKWUVQ3Y8UAY   \n",
       "5           A1YFVXP4A1CXSF:3OJSZ2ATDTKDMWCYVN4U2BX8IGX57Z  3VJ4PFXFJ3V93T2IDPJKWUVQ3Y8UAY   \n",
       "8           A1YFVXP4A1CXSF:3OJSZ2ATDTKDMWCYVN4U2BX8IGX57Z  3VJ4PFXFJ3V93T2IDPJKWUVQ3Y8UAY   \n",
       "9           A1YFVXP4A1CXSF:3OJSZ2ATDTKDMWCYVN4U2BX8IGX57Z  3VJ4PFXFJ3V93T2IDPJKWUVQ3Y8UAY   \n",
       "12          A1YFVXP4A1CXSF:3OJSZ2ATDTKDMWCYVN4U2BX8IGX57Z  3VJ4PFXFJ3V93T2IDPJKWUVQ3Y8UAY   \n",
       "13          A1YFVXP4A1CXSF:3OJSZ2ATDTKDMWCYVN4U2BX8IGX57Z  3VJ4PFXFJ3V93T2IDPJKWUVQ3Y8UAY   \n",
       "4           A2SYTRKH1JWJO5:35K3O9HUAC1QX8KXO7V9UXG2TXFEFD  3VJ4PFXFJ3V93T2IDPJKWUVQ3Y8UAY   \n",
       "5           A2SYTRKH1JWJO5:35K3O9HUAC1QX8KXO7V9UXG2TXFEFD  3VJ4PFXFJ3V93T2IDPJKWUVQ3Y8UAY   \n",
       "8           A2SYTRKH1JWJO5:35K3O9HUAC1QX8KXO7V9UXG2TXFEFD  3VJ4PFXFJ3V93T2IDPJKWUVQ3Y8UAY   \n",
       "9           A2SYTRKH1JWJO5:35K3O9HUAC1QX8KXO7V9UXG2TXFEFD  3VJ4PFXFJ3V93T2IDPJKWUVQ3Y8UAY   \n",
       "\n",
       "                                                                       trial_type  \\\n",
       "trial_index uniqueid                                                                \n",
       "4           A1YFVXP4A1CXSF:3OJSZ2ATDTKDMWCYVN4U2BX8IGX57Z  html-keyboard-response   \n",
       "5           A1YFVXP4A1CXSF:3OJSZ2ATDTKDMWCYVN4U2BX8IGX57Z  html-keyboard-response   \n",
       "8           A1YFVXP4A1CXSF:3OJSZ2ATDTKDMWCYVN4U2BX8IGX57Z  html-keyboard-response   \n",
       "9           A1YFVXP4A1CXSF:3OJSZ2ATDTKDMWCYVN4U2BX8IGX57Z  html-keyboard-response   \n",
       "12          A1YFVXP4A1CXSF:3OJSZ2ATDTKDMWCYVN4U2BX8IGX57Z  html-keyboard-response   \n",
       "13          A1YFVXP4A1CXSF:3OJSZ2ATDTKDMWCYVN4U2BX8IGX57Z  html-keyboard-response   \n",
       "4           A2SYTRKH1JWJO5:35K3O9HUAC1QX8KXO7V9UXG2TXFEFD  html-keyboard-response   \n",
       "5           A2SYTRKH1JWJO5:35K3O9HUAC1QX8KXO7V9UXG2TXFEFD  html-keyboard-response   \n",
       "8           A2SYTRKH1JWJO5:35K3O9HUAC1QX8KXO7V9UXG2TXFEFD  html-keyboard-response   \n",
       "9           A2SYTRKH1JWJO5:35K3O9HUAC1QX8KXO7V9UXG2TXFEFD  html-keyboard-response   \n",
       "\n",
       "                                                              rt  \\\n",
       "trial_index uniqueid                                               \n",
       "4           A1YFVXP4A1CXSF:3OJSZ2ATDTKDMWCYVN4U2BX8IGX57Z  13184   \n",
       "5           A1YFVXP4A1CXSF:3OJSZ2ATDTKDMWCYVN4U2BX8IGX57Z   6731   \n",
       "8           A1YFVXP4A1CXSF:3OJSZ2ATDTKDMWCYVN4U2BX8IGX57Z   2529   \n",
       "9           A1YFVXP4A1CXSF:3OJSZ2ATDTKDMWCYVN4U2BX8IGX57Z   3373   \n",
       "12          A1YFVXP4A1CXSF:3OJSZ2ATDTKDMWCYVN4U2BX8IGX57Z   2169   \n",
       "13          A1YFVXP4A1CXSF:3OJSZ2ATDTKDMWCYVN4U2BX8IGX57Z   1124   \n",
       "4           A2SYTRKH1JWJO5:35K3O9HUAC1QX8KXO7V9UXG2TXFEFD  17567   \n",
       "5           A2SYTRKH1JWJO5:35K3O9HUAC1QX8KXO7V9UXG2TXFEFD   2408   \n",
       "8           A2SYTRKH1JWJO5:35K3O9HUAC1QX8KXO7V9UXG2TXFEFD   5262   \n",
       "9           A2SYTRKH1JWJO5:35K3O9HUAC1QX8KXO7V9UXG2TXFEFD   1682   \n",
       "\n",
       "                                                          internal_node_id  \\\n",
       "trial_index uniqueid                                                         \n",
       "4           A1YFVXP4A1CXSF:3OJSZ2ATDTKDMWCYVN4U2BX8IGX57Z      0.0-3.0-1.0   \n",
       "5           A1YFVXP4A1CXSF:3OJSZ2ATDTKDMWCYVN4U2BX8IGX57Z      0.0-3.0-2.0   \n",
       "8           A1YFVXP4A1CXSF:3OJSZ2ATDTKDMWCYVN4U2BX8IGX57Z      0.0-4.0-1.0   \n",
       "9           A1YFVXP4A1CXSF:3OJSZ2ATDTKDMWCYVN4U2BX8IGX57Z      0.0-4.0-2.0   \n",
       "12          A1YFVXP4A1CXSF:3OJSZ2ATDTKDMWCYVN4U2BX8IGX57Z      0.0-5.0-1.0   \n",
       "13          A1YFVXP4A1CXSF:3OJSZ2ATDTKDMWCYVN4U2BX8IGX57Z      0.0-5.0-2.0   \n",
       "4           A2SYTRKH1JWJO5:35K3O9HUAC1QX8KXO7V9UXG2TXFEFD      0.0-3.0-1.0   \n",
       "5           A2SYTRKH1JWJO5:35K3O9HUAC1QX8KXO7V9UXG2TXFEFD      0.0-3.0-2.0   \n",
       "8           A2SYTRKH1JWJO5:35K3O9HUAC1QX8KXO7V9UXG2TXFEFD      0.0-4.0-1.0   \n",
       "9           A2SYTRKH1JWJO5:35K3O9HUAC1QX8KXO7V9UXG2TXFEFD      0.0-4.0-2.0   \n",
       "\n",
       "                                                           item_idx  \\\n",
       "trial_index uniqueid                                                  \n",
       "4           A1YFVXP4A1CXSF:3OJSZ2ATDTKDMWCYVN4U2BX8IGX57Z       3.0   \n",
       "5           A1YFVXP4A1CXSF:3OJSZ2ATDTKDMWCYVN4U2BX8IGX57Z       3.0   \n",
       "8           A1YFVXP4A1CXSF:3OJSZ2ATDTKDMWCYVN4U2BX8IGX57Z      14.0   \n",
       "9           A1YFVXP4A1CXSF:3OJSZ2ATDTKDMWCYVN4U2BX8IGX57Z      14.0   \n",
       "12          A1YFVXP4A1CXSF:3OJSZ2ATDTKDMWCYVN4U2BX8IGX57Z      15.0   \n",
       "13          A1YFVXP4A1CXSF:3OJSZ2ATDTKDMWCYVN4U2BX8IGX57Z      15.0   \n",
       "4           A2SYTRKH1JWJO5:35K3O9HUAC1QX8KXO7V9UXG2TXFEFD       1.0   \n",
       "5           A2SYTRKH1JWJO5:35K3O9HUAC1QX8KXO7V9UXG2TXFEFD       1.0   \n",
       "8           A2SYTRKH1JWJO5:35K3O9HUAC1QX8KXO7V9UXG2TXFEFD      15.0   \n",
       "9           A2SYTRKH1JWJO5:35K3O9HUAC1QX8KXO7V9UXG2TXFEFD      15.0   \n",
       "\n",
       "                                                                    verbs  \\\n",
       "trial_index uniqueid                                                        \n",
       "4           A1YFVXP4A1CXSF:3OJSZ2ATDTKDMWCYVN4U2BX8IGX57Z   [clean, wear]   \n",
       "5           A1YFVXP4A1CXSF:3OJSZ2ATDTKDMWCYVN4U2BX8IGX57Z   [clean, wear]   \n",
       "8           A1YFVXP4A1CXSF:3OJSZ2ATDTKDMWCYVN4U2BX8IGX57Z    [fly, float]   \n",
       "9           A1YFVXP4A1CXSF:3OJSZ2ATDTKDMWCYVN4U2BX8IGX57Z    [fly, float]   \n",
       "12          A1YFVXP4A1CXSF:3OJSZ2ATDTKDMWCYVN4U2BX8IGX57Z    [jump, play]   \n",
       "13          A1YFVXP4A1CXSF:3OJSZ2ATDTKDMWCYVN4U2BX8IGX57Z    [jump, play]   \n",
       "4           A2SYTRKH1JWJO5:35K3O9HUAC1QX8KXO7V9UXG2TXFEFD  [pull, arrive]   \n",
       "5           A2SYTRKH1JWJO5:35K3O9HUAC1QX8KXO7V9UXG2TXFEFD  [arrive, pull]   \n",
       "8           A2SYTRKH1JWJO5:35K3O9HUAC1QX8KXO7V9UXG2TXFEFD    [jump, play]   \n",
       "9           A2SYTRKH1JWJO5:35K3O9HUAC1QX8KXO7V9UXG2TXFEFD    [jump, play]   \n",
       "\n",
       "                                                               nonce_verbs  \\\n",
       "trial_index uniqueid                                                         \n",
       "4           A1YFVXP4A1CXSF:3OJSZ2ATDTKDMWCYVN4U2BX8IGX57Z     [dax, blick]   \n",
       "5           A1YFVXP4A1CXSF:3OJSZ2ATDTKDMWCYVN4U2BX8IGX57Z     [dax, blick]   \n",
       "8           A1YFVXP4A1CXSF:3OJSZ2ATDTKDMWCYVN4U2BX8IGX57Z   [cluss, cluft]   \n",
       "9           A1YFVXP4A1CXSF:3OJSZ2ATDTKDMWCYVN4U2BX8IGX57Z   [cluss, cluft]   \n",
       "12          A1YFVXP4A1CXSF:3OJSZ2ATDTKDMWCYVN4U2BX8IGX57Z  [shramp, snoss]   \n",
       "13          A1YFVXP4A1CXSF:3OJSZ2ATDTKDMWCYVN4U2BX8IGX57Z  [shramp, snoss]   \n",
       "4           A2SYTRKH1JWJO5:35K3O9HUAC1QX8KXO7V9UXG2TXFEFD     [spen, mund]   \n",
       "5           A2SYTRKH1JWJO5:35K3O9HUAC1QX8KXO7V9UXG2TXFEFD     [mund, spen]   \n",
       "8           A2SYTRKH1JWJO5:35K3O9HUAC1QX8KXO7V9UXG2TXFEFD   [clouse, twan]   \n",
       "9           A2SYTRKH1JWJO5:35K3O9HUAC1QX8KXO7V9UXG2TXFEFD   [clouse, twan]   \n",
       "\n",
       "                                                          verb_sequence  \\\n",
       "trial_index uniqueid                                                      \n",
       "4           A1YFVXP4A1CXSF:3OJSZ2ATDTKDMWCYVN4U2BX8IGX57Z          None   \n",
       "5           A1YFVXP4A1CXSF:3OJSZ2ATDTKDMWCYVN4U2BX8IGX57Z          None   \n",
       "8           A1YFVXP4A1CXSF:3OJSZ2ATDTKDMWCYVN4U2BX8IGX57Z          None   \n",
       "9           A1YFVXP4A1CXSF:3OJSZ2ATDTKDMWCYVN4U2BX8IGX57Z          None   \n",
       "12          A1YFVXP4A1CXSF:3OJSZ2ATDTKDMWCYVN4U2BX8IGX57Z          None   \n",
       "13          A1YFVXP4A1CXSF:3OJSZ2ATDTKDMWCYVN4U2BX8IGX57Z          None   \n",
       "4           A2SYTRKH1JWJO5:35K3O9HUAC1QX8KXO7V9UXG2TXFEFD          None   \n",
       "5           A2SYTRKH1JWJO5:35K3O9HUAC1QX8KXO7V9UXG2TXFEFD          None   \n",
       "8           A2SYTRKH1JWJO5:35K3O9HUAC1QX8KXO7V9UXG2TXFEFD          None   \n",
       "9           A2SYTRKH1JWJO5:35K3O9HUAC1QX8KXO7V9UXG2TXFEFD          None   \n",
       "\n",
       "                                                          nonce_verb_sequence  \\\n",
       "trial_index uniqueid                                                            \n",
       "4           A1YFVXP4A1CXSF:3OJSZ2ATDTKDMWCYVN4U2BX8IGX57Z                None   \n",
       "5           A1YFVXP4A1CXSF:3OJSZ2ATDTKDMWCYVN4U2BX8IGX57Z                None   \n",
       "8           A1YFVXP4A1CXSF:3OJSZ2ATDTKDMWCYVN4U2BX8IGX57Z                None   \n",
       "9           A1YFVXP4A1CXSF:3OJSZ2ATDTKDMWCYVN4U2BX8IGX57Z                None   \n",
       "12          A1YFVXP4A1CXSF:3OJSZ2ATDTKDMWCYVN4U2BX8IGX57Z                None   \n",
       "13          A1YFVXP4A1CXSF:3OJSZ2ATDTKDMWCYVN4U2BX8IGX57Z                None   \n",
       "4           A2SYTRKH1JWJO5:35K3O9HUAC1QX8KXO7V9UXG2TXFEFD                None   \n",
       "5           A2SYTRKH1JWJO5:35K3O9HUAC1QX8KXO7V9UXG2TXFEFD                None   \n",
       "8           A2SYTRKH1JWJO5:35K3O9HUAC1QX8KXO7V9UXG2TXFEFD                None   \n",
       "9           A2SYTRKH1JWJO5:35K3O9HUAC1QX8KXO7V9UXG2TXFEFD                None   \n",
       "\n",
       "                                                           survey_question_idx  \\\n",
       "trial_index uniqueid                                                             \n",
       "4           A1YFVXP4A1CXSF:3OJSZ2ATDTKDMWCYVN4U2BX8IGX57Z                  NaN   \n",
       "5           A1YFVXP4A1CXSF:3OJSZ2ATDTKDMWCYVN4U2BX8IGX57Z                  NaN   \n",
       "8           A1YFVXP4A1CXSF:3OJSZ2ATDTKDMWCYVN4U2BX8IGX57Z                  NaN   \n",
       "9           A1YFVXP4A1CXSF:3OJSZ2ATDTKDMWCYVN4U2BX8IGX57Z                  NaN   \n",
       "12          A1YFVXP4A1CXSF:3OJSZ2ATDTKDMWCYVN4U2BX8IGX57Z                  NaN   \n",
       "13          A1YFVXP4A1CXSF:3OJSZ2ATDTKDMWCYVN4U2BX8IGX57Z                  NaN   \n",
       "4           A2SYTRKH1JWJO5:35K3O9HUAC1QX8KXO7V9UXG2TXFEFD                  NaN   \n",
       "5           A2SYTRKH1JWJO5:35K3O9HUAC1QX8KXO7V9UXG2TXFEFD                  NaN   \n",
       "8           A2SYTRKH1JWJO5:35K3O9HUAC1QX8KXO7V9UXG2TXFEFD                  NaN   \n",
       "9           A2SYTRKH1JWJO5:35K3O9HUAC1QX8KXO7V9UXG2TXFEFD                  NaN   \n",
       "\n",
       "                                                          survey_answer  \\\n",
       "trial_index uniqueid                                                      \n",
       "4           A1YFVXP4A1CXSF:3OJSZ2ATDTKDMWCYVN4U2BX8IGX57Z           NaN   \n",
       "5           A1YFVXP4A1CXSF:3OJSZ2ATDTKDMWCYVN4U2BX8IGX57Z           NaN   \n",
       "8           A1YFVXP4A1CXSF:3OJSZ2ATDTKDMWCYVN4U2BX8IGX57Z           NaN   \n",
       "9           A1YFVXP4A1CXSF:3OJSZ2ATDTKDMWCYVN4U2BX8IGX57Z           NaN   \n",
       "12          A1YFVXP4A1CXSF:3OJSZ2ATDTKDMWCYVN4U2BX8IGX57Z           NaN   \n",
       "13          A1YFVXP4A1CXSF:3OJSZ2ATDTKDMWCYVN4U2BX8IGX57Z           NaN   \n",
       "4           A2SYTRKH1JWJO5:35K3O9HUAC1QX8KXO7V9UXG2TXFEFD           NaN   \n",
       "5           A2SYTRKH1JWJO5:35K3O9HUAC1QX8KXO7V9UXG2TXFEFD           NaN   \n",
       "8           A2SYTRKH1JWJO5:35K3O9HUAC1QX8KXO7V9UXG2TXFEFD           NaN   \n",
       "9           A2SYTRKH1JWJO5:35K3O9HUAC1QX8KXO7V9UXG2TXFEFD           NaN   \n",
       "\n",
       "                                                           is_train_trial  \\\n",
       "trial_index uniqueid                                                        \n",
       "4           A1YFVXP4A1CXSF:3OJSZ2ATDTKDMWCYVN4U2BX8IGX57Z            True   \n",
       "5           A1YFVXP4A1CXSF:3OJSZ2ATDTKDMWCYVN4U2BX8IGX57Z            True   \n",
       "8           A1YFVXP4A1CXSF:3OJSZ2ATDTKDMWCYVN4U2BX8IGX57Z            True   \n",
       "9           A1YFVXP4A1CXSF:3OJSZ2ATDTKDMWCYVN4U2BX8IGX57Z            True   \n",
       "12          A1YFVXP4A1CXSF:3OJSZ2ATDTKDMWCYVN4U2BX8IGX57Z            True   \n",
       "13          A1YFVXP4A1CXSF:3OJSZ2ATDTKDMWCYVN4U2BX8IGX57Z            True   \n",
       "4           A2SYTRKH1JWJO5:35K3O9HUAC1QX8KXO7V9UXG2TXFEFD            True   \n",
       "5           A2SYTRKH1JWJO5:35K3O9HUAC1QX8KXO7V9UXG2TXFEFD            True   \n",
       "8           A2SYTRKH1JWJO5:35K3O9HUAC1QX8KXO7V9UXG2TXFEFD            True   \n",
       "9           A2SYTRKH1JWJO5:35K3O9HUAC1QX8KXO7V9UXG2TXFEFD            True   \n",
       "\n",
       "                                                           is_test_trial chunk  \n",
       "trial_index uniqueid                                                            \n",
       "4           A1YFVXP4A1CXSF:3OJSZ2ATDTKDMWCYVN4U2BX8IGX57Z          False     0  \n",
       "5           A1YFVXP4A1CXSF:3OJSZ2ATDTKDMWCYVN4U2BX8IGX57Z          False     0  \n",
       "8           A1YFVXP4A1CXSF:3OJSZ2ATDTKDMWCYVN4U2BX8IGX57Z          False     1  \n",
       "9           A1YFVXP4A1CXSF:3OJSZ2ATDTKDMWCYVN4U2BX8IGX57Z          False     1  \n",
       "12          A1YFVXP4A1CXSF:3OJSZ2ATDTKDMWCYVN4U2BX8IGX57Z          False     2  \n",
       "13          A1YFVXP4A1CXSF:3OJSZ2ATDTKDMWCYVN4U2BX8IGX57Z          False     2  \n",
       "4           A2SYTRKH1JWJO5:35K3O9HUAC1QX8KXO7V9UXG2TXFEFD          False     0  \n",
       "5           A2SYTRKH1JWJO5:35K3O9HUAC1QX8KXO7V9UXG2TXFEFD          False     0  \n",
       "8           A2SYTRKH1JWJO5:35K3O9HUAC1QX8KXO7V9UXG2TXFEFD          False     1  \n",
       "9           A2SYTRKH1JWJO5:35K3O9HUAC1QX8KXO7V9UXG2TXFEFD          False     1  "
      ]
     },
     "execution_count": 57,
     "metadata": {},
     "output_type": "execute_result"
    }
   ],
   "source": [
    "train_trials_df.head(10)"
   ]
  },
  {
   "cell_type": "code",
   "execution_count": 58,
   "metadata": {},
   "outputs": [],
   "source": [
    "# Compute the number of training trials per chunk\n",
    "chunk_train_sizes = train_trials_df.chunk.value_counts().unique()\n",
    "assert len(chunk_train_sizes) == 1, \"Some chunks are different sizes than others -- huh?\\n\" + str(train_trials_df.chunk.value_counts())\n",
    "TRAIN_TRIALS_PER_CHUNK = chunk_train_sizes[0]"
   ]
  },
  {
   "cell_type": "code",
   "execution_count": 59,
   "metadata": {},
   "outputs": [
    {
     "ename": "FileNotFoundError",
     "evalue": "[Errno 2] No such file or directory: 'data/train_results.csv'",
     "output_type": "error",
     "traceback": [
      "\u001b[0;31m---------------------------------------------------------------------------\u001b[0m",
      "\u001b[0;31mFileNotFoundError\u001b[0m                         Traceback (most recent call last)",
      "\u001b[0;32m<ipython-input-59-baecf9d8a249>\u001b[0m in \u001b[0;36m<module>\u001b[0;34m\u001b[0m\n\u001b[0;32m----> 1\u001b[0;31m \u001b[0mtrain_trials_df\u001b[0m\u001b[0;34m.\u001b[0m\u001b[0mto_csv\u001b[0m\u001b[0;34m(\u001b[0m\u001b[0;34m\"data/train_results.csv\"\u001b[0m\u001b[0;34m)\u001b[0m\u001b[0;34m\u001b[0m\u001b[0;34m\u001b[0m\u001b[0m\n\u001b[0m",
      "\u001b[0;32m/opt/conda/lib/python3.7/site-packages/pandas/core/generic.py\u001b[0m in \u001b[0;36mto_csv\u001b[0;34m(self, path_or_buf, sep, na_rep, float_format, columns, header, index, index_label, mode, encoding, compression, quoting, quotechar, line_terminator, chunksize, date_format, doublequote, escapechar, decimal)\u001b[0m\n\u001b[1;32m   3226\u001b[0m             \u001b[0mdecimal\u001b[0m\u001b[0;34m=\u001b[0m\u001b[0mdecimal\u001b[0m\u001b[0;34m,\u001b[0m\u001b[0;34m\u001b[0m\u001b[0;34m\u001b[0m\u001b[0m\n\u001b[1;32m   3227\u001b[0m         )\n\u001b[0;32m-> 3228\u001b[0;31m         \u001b[0mformatter\u001b[0m\u001b[0;34m.\u001b[0m\u001b[0msave\u001b[0m\u001b[0;34m(\u001b[0m\u001b[0;34m)\u001b[0m\u001b[0;34m\u001b[0m\u001b[0;34m\u001b[0m\u001b[0m\n\u001b[0m\u001b[1;32m   3229\u001b[0m \u001b[0;34m\u001b[0m\u001b[0m\n\u001b[1;32m   3230\u001b[0m         \u001b[0;32mif\u001b[0m \u001b[0mpath_or_buf\u001b[0m \u001b[0;32mis\u001b[0m \u001b[0;32mNone\u001b[0m\u001b[0;34m:\u001b[0m\u001b[0;34m\u001b[0m\u001b[0;34m\u001b[0m\u001b[0m\n",
      "\u001b[0;32m/opt/conda/lib/python3.7/site-packages/pandas/io/formats/csvs.py\u001b[0m in \u001b[0;36msave\u001b[0;34m(self)\u001b[0m\n\u001b[1;32m    181\u001b[0m                 \u001b[0mself\u001b[0m\u001b[0;34m.\u001b[0m\u001b[0mmode\u001b[0m\u001b[0;34m,\u001b[0m\u001b[0;34m\u001b[0m\u001b[0;34m\u001b[0m\u001b[0m\n\u001b[1;32m    182\u001b[0m                 \u001b[0mencoding\u001b[0m\u001b[0;34m=\u001b[0m\u001b[0mself\u001b[0m\u001b[0;34m.\u001b[0m\u001b[0mencoding\u001b[0m\u001b[0;34m,\u001b[0m\u001b[0;34m\u001b[0m\u001b[0;34m\u001b[0m\u001b[0m\n\u001b[0;32m--> 183\u001b[0;31m                 \u001b[0mcompression\u001b[0m\u001b[0;34m=\u001b[0m\u001b[0mself\u001b[0m\u001b[0;34m.\u001b[0m\u001b[0mcompression\u001b[0m\u001b[0;34m,\u001b[0m\u001b[0;34m\u001b[0m\u001b[0;34m\u001b[0m\u001b[0m\n\u001b[0m\u001b[1;32m    184\u001b[0m             )\n\u001b[1;32m    185\u001b[0m             \u001b[0mclose\u001b[0m \u001b[0;34m=\u001b[0m \u001b[0;32mTrue\u001b[0m\u001b[0;34m\u001b[0m\u001b[0;34m\u001b[0m\u001b[0m\n",
      "\u001b[0;32m/opt/conda/lib/python3.7/site-packages/pandas/io/common.py\u001b[0m in \u001b[0;36m_get_handle\u001b[0;34m(path_or_buf, mode, encoding, compression, memory_map, is_text)\u001b[0m\n\u001b[1;32m    397\u001b[0m         \u001b[0;32mif\u001b[0m \u001b[0mencoding\u001b[0m\u001b[0;34m:\u001b[0m\u001b[0;34m\u001b[0m\u001b[0;34m\u001b[0m\u001b[0m\n\u001b[1;32m    398\u001b[0m             \u001b[0;31m# Encoding\u001b[0m\u001b[0;34m\u001b[0m\u001b[0;34m\u001b[0m\u001b[0;34m\u001b[0m\u001b[0m\n\u001b[0;32m--> 399\u001b[0;31m             \u001b[0mf\u001b[0m \u001b[0;34m=\u001b[0m \u001b[0mopen\u001b[0m\u001b[0;34m(\u001b[0m\u001b[0mpath_or_buf\u001b[0m\u001b[0;34m,\u001b[0m \u001b[0mmode\u001b[0m\u001b[0;34m,\u001b[0m \u001b[0mencoding\u001b[0m\u001b[0;34m=\u001b[0m\u001b[0mencoding\u001b[0m\u001b[0;34m,\u001b[0m \u001b[0mnewline\u001b[0m\u001b[0;34m=\u001b[0m\u001b[0;34m\"\"\u001b[0m\u001b[0;34m)\u001b[0m\u001b[0;34m\u001b[0m\u001b[0;34m\u001b[0m\u001b[0m\n\u001b[0m\u001b[1;32m    400\u001b[0m         \u001b[0;32melif\u001b[0m \u001b[0mis_text\u001b[0m\u001b[0;34m:\u001b[0m\u001b[0;34m\u001b[0m\u001b[0;34m\u001b[0m\u001b[0m\n\u001b[1;32m    401\u001b[0m             \u001b[0;31m# No explicit encoding\u001b[0m\u001b[0;34m\u001b[0m\u001b[0;34m\u001b[0m\u001b[0;34m\u001b[0m\u001b[0m\n",
      "\u001b[0;31mFileNotFoundError\u001b[0m: [Errno 2] No such file or directory: 'data/train_results.csv'"
     ]
    }
   ],
   "source": [
    "train_trials_df.to_csv(\"data/train_results.csv\")"
   ]
  },
  {
   "cell_type": "markdown",
   "metadata": {},
   "source": [
    "-----"
   ]
  },
  {
   "cell_type": "markdown",
   "metadata": {},
   "source": [
    "## Demographic analysis"
   ]
  },
  {
   "cell_type": "code",
   "execution_count": 60,
   "metadata": {},
   "outputs": [
    {
     "data": {
      "text/plain": [
       "Text(0.5, 0, 'Age')"
      ]
     },
     "execution_count": 60,
     "metadata": {},
     "output_type": "execute_result"
    },
    {
     "data": {
      "image/png": "[encoded data removed]",
      "text/plain": [
       "<Figure size 432x288 with 1 Axes>"
      ]
     },
     "metadata": {
      "needs_background": "light"
     },
     "output_type": "display_data"
    }
   ],
   "source": [
    "ages = pd.to_numeric(trials_df.loc[1].survey_answer, errors=\"coerce\")\n",
    "\n",
    "sns.distplot(ages)\n",
    "plt.title(\"Age distribution\")\n",
    "plt.xlabel(\"Age\")"
   ]
  },
  {
   "cell_type": "code",
   "execution_count": 61,
   "metadata": {},
   "outputs": [
    {
     "data": {
      "text/plain": [
       "survey_question_idx  survey_answer    \n",
       "0                    Bachelor's degree     58\n",
       "                     Some college          31\n",
       "                     High school/GED       14\n",
       "                     Master's degree       11\n",
       "                     Ph.D.                  1\n",
       "1                    Yes                  114\n",
       "                     No                     1\n",
       "Name: survey_answer, dtype: int64"
      ]
     },
     "execution_count": 61,
     "metadata": {},
     "output_type": "execute_result"
    }
   ],
   "source": [
    "trials_df.loc[2].groupby(\"survey_question_idx\").survey_answer.value_counts()"
   ]
  },
  {
   "cell_type": "markdown",
   "metadata": {},
   "source": [
    "### Comments"
   ]
  },
  {
   "cell_type": "code",
   "execution_count": 62,
   "metadata": {},
   "outputs": [
    {
     "data": {
      "text/plain": [
       "array(['', 'no', 'nice', 'no comments', 'nope', 'Thank you', 'good',\n",
       "       'No Comments ', 'very interesting ', 'Good task', 'GOOD',\n",
       "       'good task', 'it was fast', 'none', 'nice and good',\n",
       "       'it is very intresting survey', 'No', 'good survey',\n",
       "       'Fun experiment', '6 minute timer is very bad',\n",
       "       'it was good to complete this study', 'Thanks', 'Thank you!',\n",
       "       'No comments', 'very nice', 'no issues encountered',\n",
       "       '6 minute timer for the entire survey thus not much time to think ',\n",
       "       'time too short - if you want good effort, Hit time needs to be longer',\n",
       "       'good idea ', 'nice experiment', 'it was very interesting'],\n",
       "      dtype=object)"
      ]
     },
     "execution_count": 62,
     "metadata": {},
     "output_type": "execute_result"
    }
   ],
   "source": [
    "trials_df.loc[15].survey_answer.unique()"
   ]
  },
  {
   "cell_type": "markdown",
   "metadata": {},
   "source": [
    "## Reaction time analyses"
   ]
  },
  {
   "cell_type": "code",
   "execution_count": 63,
   "metadata": {},
   "outputs": [
    {
     "data": {
      "text/plain": [
       "<matplotlib.axes._subplots.AxesSubplot at 0x7f35e8d61d30>"
      ]
     },
     "execution_count": 63,
     "metadata": {},
     "output_type": "execute_result"
    },
    {
     "data": {
      "image/png": "[encoded data removed]",
      "text/plain": [
       "<Figure size 432x288 with 1 Axes>"
      ]
     },
     "metadata": {
      "needs_background": "light"
     },
     "output_type": "display_data"
    }
   ],
   "source": [
    "sns.distplot(trials_df.groupby(\"uniqueid\").rt.sum() / 1000 / 60, axlabel=\"Total experiment time (minutes)\")"
   ]
  },
  {
   "cell_type": "code",
   "execution_count": 64,
   "metadata": {},
   "outputs": [
    {
     "data": {
      "text/plain": [
       "<matplotlib.axes._subplots.AxesSubplot at 0x7f35e916fe10>"
      ]
     },
     "execution_count": 64,
     "metadata": {},
     "output_type": "execute_result"
    },
    {
     "data": {
      "image/png": "[encoded data removed]",
      "text/plain": [
       "<Figure size 432x288 with 1 Axes>"
      ]
     },
     "metadata": {
      "needs_background": "light"
     },
     "output_type": "display_data"
    }
   ],
   "source": [
    "sns.distplot(train_trials_df.rt / 1000, bins=30, axlabel=\"Train RT (sec)\")"
   ]
  },
  {
   "cell_type": "code",
   "execution_count": 65,
   "metadata": {},
   "outputs": [
    {
     "data": {
      "text/plain": [
       "<matplotlib.axes._subplots.AxesSubplot at 0x7f35e8d61e10>"
      ]
     },
     "execution_count": 65,
     "metadata": {},
     "output_type": "execute_result"
    },
    {
     "data": {
      "image/png": "[encoded data removed]",
      "text/plain": [
       "<Figure size 432x288 with 1 Axes>"
      ]
     },
     "metadata": {
      "needs_background": "light"
     },
     "output_type": "display_data"
    }
   ],
   "source": [
    "sns.scatterplot(data=train_trials_df.reset_index(), x=\"trial_index\", y=\"rt\")"
   ]
  },
  {
   "cell_type": "code",
   "execution_count": 66,
   "metadata": {},
   "outputs": [
    {
     "data": {
      "text/plain": [
       "<matplotlib.axes._subplots.AxesSubplot at 0x7f35e8601358>"
      ]
     },
     "execution_count": 66,
     "metadata": {},
     "output_type": "execute_result"
    },
    {
     "data": {
      "image/png": "[encoded data removed]",
      "text/plain": [
       "<Figure size 432x288 with 1 Axes>"
      ]
     },
     "metadata": {
      "needs_background": "light"
     },
     "output_type": "display_data"
    }
   ],
   "source": [
    "sns.distplot(test_trials_df.rt / 1000, bins=30, axlabel=\"Test RT (ms)\")"
   ]
  },
  {
   "cell_type": "code",
   "execution_count": 67,
   "metadata": {},
   "outputs": [
    {
     "data": {
      "text/plain": [
       "<matplotlib.axes._subplots.AxesSubplot at 0x7f35e8586a20>"
      ]
     },
     "execution_count": 67,
     "metadata": {},
     "output_type": "execute_result"
    },
    {
     "data": {
      "image/png": "[encoded data removed]",
      "text/plain": [
       "<Figure size 432x288 with 1 Axes>"
      ]
     },
     "metadata": {
      "needs_background": "light"
     },
     "output_type": "display_data"
    }
   ],
   "source": [
    "sns.scatterplot(data=test_trials_df.reset_index(), x=\"trial_index\", y=\"rt\")"
   ]
  },
  {
   "cell_type": "markdown",
   "metadata": {},
   "source": [
    "## Coarse accuracy analyses"
   ]
  },
  {
   "cell_type": "code",
   "execution_count": 68,
   "metadata": {},
   "outputs": [
    {
     "name": "stderr",
     "output_type": "stream",
     "text": [
      "/opt/conda/lib/python3.7/site-packages/ipykernel_launcher.py:1: SettingWithCopyWarning: \n",
      "A value is trying to be set on a copy of a slice from a DataFrame.\n",
      "Try using .loc[row_indexer,col_indexer] = value instead\n",
      "\n",
      "See the caveats in the documentation: http://pandas.pydata.org/pandas-docs/stable/user_guide/indexing.html#returning-a-view-versus-a-copy\n",
      "  \"\"\"Entry point for launching an IPython kernel.\n",
      "/opt/conda/lib/python3.7/site-packages/ipykernel_launcher.py:2: SettingWithCopyWarning: \n",
      "A value is trying to be set on a copy of a slice from a DataFrame.\n",
      "Try using .loc[row_indexer,col_indexer] = value instead\n",
      "\n",
      "See the caveats in the documentation: http://pandas.pydata.org/pandas-docs/stable/user_guide/indexing.html#returning-a-view-versus-a-copy\n",
      "  \n",
      "/opt/conda/lib/python3.7/site-packages/ipykernel_launcher.py:3: SettingWithCopyWarning: \n",
      "A value is trying to be set on a copy of a slice from a DataFrame.\n",
      "Try using .loc[row_indexer,col_indexer] = value instead\n",
      "\n",
      "See the caveats in the documentation: http://pandas.pydata.org/pandas-docs/stable/user_guide/indexing.html#returning-a-view-versus-a-copy\n",
      "  This is separate from the ipykernel package so we can avoid doing imports until\n"
     ]
    }
   ],
   "source": [
    "test_trials_df[\"verb_query\"] = test_trials_df.apply(lambda row: row.verb_sequence[row.survey_question_idx], axis=1)\n",
    "test_trials_df[\"nonce_verb_query\"] = test_trials_df.apply(lambda row: row.nonce_verb_sequence[row.survey_question_idx], axis=1)\n",
    "test_trials_df[\"correct\"] = test_trials_df.verb_query == test_trials_df.survey_answer"
   ]
  },
  {
   "cell_type": "code",
   "execution_count": 69,
   "metadata": {},
   "outputs": [
    {
     "ename": "FileNotFoundError",
     "evalue": "[Errno 2] No such file or directory: 'data/test_results.csv'",
     "output_type": "error",
     "traceback": [
      "\u001b[0;31m---------------------------------------------------------------------------\u001b[0m",
      "\u001b[0;31mFileNotFoundError\u001b[0m                         Traceback (most recent call last)",
      "\u001b[0;32m<ipython-input-69-ee7316dcf0c6>\u001b[0m in \u001b[0;36m<module>\u001b[0;34m\u001b[0m\n\u001b[0;32m----> 1\u001b[0;31m \u001b[0mtest_trials_df\u001b[0m\u001b[0;34m.\u001b[0m\u001b[0mto_csv\u001b[0m\u001b[0;34m(\u001b[0m\u001b[0;34m\"data/test_results.csv\"\u001b[0m\u001b[0;34m)\u001b[0m\u001b[0;34m\u001b[0m\u001b[0;34m\u001b[0m\u001b[0m\n\u001b[0m",
      "\u001b[0;32m/opt/conda/lib/python3.7/site-packages/pandas/core/generic.py\u001b[0m in \u001b[0;36mto_csv\u001b[0;34m(self, path_or_buf, sep, na_rep, float_format, columns, header, index, index_label, mode, encoding, compression, quoting, quotechar, line_terminator, chunksize, date_format, doublequote, escapechar, decimal)\u001b[0m\n\u001b[1;32m   3226\u001b[0m             \u001b[0mdecimal\u001b[0m\u001b[0;34m=\u001b[0m\u001b[0mdecimal\u001b[0m\u001b[0;34m,\u001b[0m\u001b[0;34m\u001b[0m\u001b[0;34m\u001b[0m\u001b[0m\n\u001b[1;32m   3227\u001b[0m         )\n\u001b[0;32m-> 3228\u001b[0;31m         \u001b[0mformatter\u001b[0m\u001b[0;34m.\u001b[0m\u001b[0msave\u001b[0m\u001b[0;34m(\u001b[0m\u001b[0;34m)\u001b[0m\u001b[0;34m\u001b[0m\u001b[0;34m\u001b[0m\u001b[0m\n\u001b[0m\u001b[1;32m   3229\u001b[0m \u001b[0;34m\u001b[0m\u001b[0m\n\u001b[1;32m   3230\u001b[0m         \u001b[0;32mif\u001b[0m \u001b[0mpath_or_buf\u001b[0m \u001b[0;32mis\u001b[0m \u001b[0;32mNone\u001b[0m\u001b[0;34m:\u001b[0m\u001b[0;34m\u001b[0m\u001b[0;34m\u001b[0m\u001b[0m\n",
      "\u001b[0;32m/opt/conda/lib/python3.7/site-packages/pandas/io/formats/csvs.py\u001b[0m in \u001b[0;36msave\u001b[0;34m(self)\u001b[0m\n\u001b[1;32m    181\u001b[0m                 \u001b[0mself\u001b[0m\u001b[0;34m.\u001b[0m\u001b[0mmode\u001b[0m\u001b[0;34m,\u001b[0m\u001b[0;34m\u001b[0m\u001b[0;34m\u001b[0m\u001b[0m\n\u001b[1;32m    182\u001b[0m                 \u001b[0mencoding\u001b[0m\u001b[0;34m=\u001b[0m\u001b[0mself\u001b[0m\u001b[0;34m.\u001b[0m\u001b[0mencoding\u001b[0m\u001b[0;34m,\u001b[0m\u001b[0;34m\u001b[0m\u001b[0;34m\u001b[0m\u001b[0m\n\u001b[0;32m--> 183\u001b[0;31m                 \u001b[0mcompression\u001b[0m\u001b[0;34m=\u001b[0m\u001b[0mself\u001b[0m\u001b[0;34m.\u001b[0m\u001b[0mcompression\u001b[0m\u001b[0;34m,\u001b[0m\u001b[0;34m\u001b[0m\u001b[0;34m\u001b[0m\u001b[0m\n\u001b[0m\u001b[1;32m    184\u001b[0m             )\n\u001b[1;32m    185\u001b[0m             \u001b[0mclose\u001b[0m \u001b[0;34m=\u001b[0m \u001b[0;32mTrue\u001b[0m\u001b[0;34m\u001b[0m\u001b[0;34m\u001b[0m\u001b[0m\n",
      "\u001b[0;32m/opt/conda/lib/python3.7/site-packages/pandas/io/common.py\u001b[0m in \u001b[0;36m_get_handle\u001b[0;34m(path_or_buf, mode, encoding, compression, memory_map, is_text)\u001b[0m\n\u001b[1;32m    397\u001b[0m         \u001b[0;32mif\u001b[0m \u001b[0mencoding\u001b[0m\u001b[0;34m:\u001b[0m\u001b[0;34m\u001b[0m\u001b[0;34m\u001b[0m\u001b[0m\n\u001b[1;32m    398\u001b[0m             \u001b[0;31m# Encoding\u001b[0m\u001b[0;34m\u001b[0m\u001b[0;34m\u001b[0m\u001b[0;34m\u001b[0m\u001b[0m\n\u001b[0;32m--> 399\u001b[0;31m             \u001b[0mf\u001b[0m \u001b[0;34m=\u001b[0m \u001b[0mopen\u001b[0m\u001b[0;34m(\u001b[0m\u001b[0mpath_or_buf\u001b[0m\u001b[0;34m,\u001b[0m \u001b[0mmode\u001b[0m\u001b[0;34m,\u001b[0m \u001b[0mencoding\u001b[0m\u001b[0;34m=\u001b[0m\u001b[0mencoding\u001b[0m\u001b[0;34m,\u001b[0m \u001b[0mnewline\u001b[0m\u001b[0;34m=\u001b[0m\u001b[0;34m\"\"\u001b[0m\u001b[0;34m)\u001b[0m\u001b[0;34m\u001b[0m\u001b[0;34m\u001b[0m\u001b[0m\n\u001b[0m\u001b[1;32m    400\u001b[0m         \u001b[0;32melif\u001b[0m \u001b[0mis_text\u001b[0m\u001b[0;34m:\u001b[0m\u001b[0;34m\u001b[0m\u001b[0;34m\u001b[0m\u001b[0m\n\u001b[1;32m    401\u001b[0m             \u001b[0;31m# No explicit encoding\u001b[0m\u001b[0;34m\u001b[0m\u001b[0;34m\u001b[0m\u001b[0;34m\u001b[0m\u001b[0m\n",
      "\u001b[0;31mFileNotFoundError\u001b[0m: [Errno 2] No such file or directory: 'data/test_results.csv'"
     ]
    }
   ],
   "source": [
    "test_trials_df.to_csv(\"data/test_results.csv\")"
   ]
  },
  {
   "cell_type": "code",
   "execution_count": 70,
   "metadata": {},
   "outputs": [
    {
     "data": {
      "text/plain": [
       "<matplotlib.axes._subplots.AxesSubplot at 0x7f35e8500ba8>"
      ]
     },
     "execution_count": 70,
     "metadata": {},
     "output_type": "execute_result"
    },
    {
     "data": {
      "image/png": "[encoded data removed]",
      "text/plain": [
       "<Figure size 432x288 with 1 Axes>"
      ]
     },
     "metadata": {
      "needs_background": "light"
     },
     "output_type": "display_data"
    }
   ],
   "source": [
    "sns.barplot(data=test_trials_df.reset_index(),\n",
    "            x=\"condition\", y=\"correct\")"
   ]
  },
  {
   "cell_type": "code",
   "execution_count": 71,
   "metadata": {},
   "outputs": [
    {
     "data": {
      "text/plain": [
       "condition\n",
       "syntax    0.606952\n",
       "verb      0.528481\n",
       "Name: correct, dtype: float64"
      ]
     },
     "execution_count": 71,
     "metadata": {},
     "output_type": "execute_result"
    }
   ],
   "source": [
    "test_trials_df.groupby(\"condition\").correct.mean()"
   ]
  },
  {
   "cell_type": "code",
   "execution_count": 72,
   "metadata": {},
   "outputs": [
    {
     "data": {
      "text/plain": [
       "item_idx  condition\n",
       "1.0       syntax       0.538462\n",
       "          verb         0.500000\n",
       "2.0       syntax       0.812500\n",
       "          verb         0.461538\n",
       "3.0       syntax       0.615385\n",
       "          verb         0.333333\n",
       "4.0       syntax       0.700000\n",
       "          verb         0.625000\n",
       "5.0       syntax       0.750000\n",
       "          verb         0.600000\n",
       "6.0       syntax       0.200000\n",
       "          verb         0.800000\n",
       "8.0       syntax       0.714286\n",
       "          verb         0.285714\n",
       "9.0       syntax       0.625000\n",
       "          verb         0.800000\n",
       "10.0      syntax       0.428571\n",
       "          verb         0.500000\n",
       "11.0      syntax       0.884615\n",
       "          verb         0.416667\n",
       "12.0      syntax       0.466667\n",
       "          verb         0.444444\n",
       "13.0      syntax       0.777778\n",
       "          verb         0.714286\n",
       "14.0      syntax       0.578947\n",
       "          verb         0.428571\n",
       "15.0      syntax       0.472222\n",
       "          verb         1.000000\n",
       "16.0      syntax       0.750000\n",
       "          verb         0.692308\n",
       "17.0      syntax       0.250000\n",
       "          verb         0.600000\n",
       "Name: correct, dtype: float64"
      ]
     },
     "execution_count": 72,
     "metadata": {},
     "output_type": "execute_result"
    }
   ],
   "source": [
    "test_trials_df.groupby([\"item_idx\", \"condition\"]).correct.mean()"
   ]
  },
  {
   "cell_type": "code",
   "execution_count": 73,
   "metadata": {},
   "outputs": [
    {
     "data": {
      "text/plain": [
       "<matplotlib.axes._subplots.AxesSubplot at 0x7f35e8486518>"
      ]
     },
     "execution_count": 73,
     "metadata": {},
     "output_type": "execute_result"
    },
    {
     "data": {
      "image/png": "[encoded data removed]",
      "text/plain": [
       "<Figure size 1080x432 with 1 Axes>"
      ]
     },
     "metadata": {
      "needs_background": "light"
     },
     "output_type": "display_data"
    }
   ],
   "source": [
    "plt.subplots(figsize=(15, 6))\n",
    "sns.barplot(data=test_trials_df, x=\"item_idx\", hue=\"condition\", y=\"correct\")"
   ]
  },
  {
   "cell_type": "code",
   "execution_count": 74,
   "metadata": {},
   "outputs": [
    {
     "data": {
      "text/plain": [
       "Text(0.5, 1.0, 'Total chunk time vs. chunk accuracy')"
      ]
     },
     "execution_count": 74,
     "metadata": {},
     "output_type": "execute_result"
    },
    {
     "data": {
      "image/png": "[encoded data removed]",
      "text/plain": [
       "<Figure size 432x288 with 1 Axes>"
      ]
     },
     "metadata": {
      "needs_background": "light"
     },
     "output_type": "display_data"
    }
   ],
   "source": [
    "chunk_perf = pd.concat([trials_df.groupby([\"uniqueid\", \"chunk\"]).rt.sum(),\n",
    "                        test_trials_df.groupby([\"uniqueid\", \"chunk\"]).correct.mean()],\n",
    "                       axis=1)\n",
    "\n",
    "sns.scatterplot(data=chunk_perf, x=\"rt\", y=\"correct\")\n",
    "plt.title(\"Total chunk time vs. chunk accuracy\")"
   ]
  }
 ],
 "metadata": {
  "kernelspec": {
   "display_name": "Python 3",
   "language": "python",
   "name": "python3"
  },
  "language_info": {
   "codemirror_mode": {
    "name": "ipython",
    "version": 3
   },
   "file_extension": ".py",
   "mimetype": "text/x-python",
   "name": "python",
   "nbconvert_exporter": "python",
   "pygments_lexer": "ipython3",
   "version": "3.6.9"
  }
 },
 "nbformat": 4,
 "nbformat_minor": 4
}
